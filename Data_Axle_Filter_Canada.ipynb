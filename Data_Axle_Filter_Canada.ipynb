{
 "cells": [
  {
   "cell_type": "code",
   "execution_count": null,
   "id": "a8d032f9",
   "metadata": {},
   "outputs": [],
   "source": [
    "# import a library for working with tabular data, pandas\n",
    "# we are importing it using the shorthand \"pd\" to more easily call it's functions\n",
    "\n",
    "import pandas as pd"
   ]
  },
  {
   "cell_type": "code",
   "execution_count": null,
   "id": "db573780",
   "metadata": {},
   "outputs": [],
   "source": [
    "# read the data in as a python object (dataframe) we can work with\n",
    "# I added underscores to the file name before uploading - computers do not like white space!\n",
    "# I am setting the dtype to string because the data is mixed so it needs\n",
    "# to know how to interpret it. You ideally should set for each column if working with the data extensively in Python\n",
    "\n",
    "# NOTE this cell may take some time to execute\n",
    "\n",
    "canada_data = pd.read_csv(\"Canada_DB_2024.csv\", dtype=str)"
   ]
  },
  {
   "cell_type": "code",
   "execution_count": null,
   "id": "6a312b1c",
   "metadata": {},
   "outputs": [],
   "source": [
    "# check how many rows are in your dataframe\n",
    "canada_data.shape[0]"
   ]
  },
  {
   "cell_type": "code",
   "execution_count": null,
   "id": "ad6521c0",
   "metadata": {},
   "outputs": [],
   "source": [
    "# optional - set the default max columns and rows to \"none\" \n",
    "# this will allow you to display as many columns & rows as you'd like\n",
    "pd.set_option('display.max_columns', None)\n",
    "pd.set_option('display.max_rows', None)"
   ]
  },
  {
   "cell_type": "code",
   "execution_count": null,
   "id": "b9eb7d02",
   "metadata": {},
   "outputs": [],
   "source": [
    "# preview first 10 rows\n",
    "canada_data.head(10)"
   ]
  },
  {
   "cell_type": "code",
   "execution_count": null,
   "id": "8cf6b466",
   "metadata": {},
   "outputs": [],
   "source": [
    "# filter for only those cases where STCITY = Toronto\n",
    "# be sure to assign any outputs to a new variable. Otherwise, these\n",
    "# changes will not be saved as a new object you can run further\n",
    "# analysis on!\n",
    "\n",
    "# CHANGE FILTER AS NEEDED - UPDATE COLUMN AND FILTER PARAMETERS\n",
    "\n",
    "toronto_data = canada_data[canada_data[\"STCITY\"] == \"Toronto\"]\n",
    "\n",
    "# check size of new dataframe to confirm this has been applied \n",
    "toronto_data.shape[0]"
   ]
  },
  {
   "cell_type": "code",
   "execution_count": null,
   "id": "7575a2e8",
   "metadata": {},
   "outputs": [],
   "source": [
    "# preview your new dataframe\n",
    "toronto_data.head(10)"
   ]
  },
  {
   "cell_type": "code",
   "execution_count": null,
   "id": "1ec1f21f",
   "metadata": {},
   "outputs": [],
   "source": [
    "# additional filters can be applied at the same time\n",
    "# if applying a numerical filter, you will need to change that particular\n",
    "# column's data type to numeric\n",
    "\n",
    "# for example, changing LOCEMP to numeric:\n",
    "\n",
    "canada_data[\"LOCEMP\"] = pd.to_numeric(canada_data[\"LOCEMP\"], errors='coerce')\n",
    "\n",
    "# filtering for city AND employee size of greater than 200 at the same time \n",
    "\n",
    "toronto_data_size = canada_data[(canada_data[\"STCITY\"] == \"Toronto\") & (canada_data[\"LOCEMP\"] > 200)]\n",
    "\n",
    "# check size of new dataframe to confirm this has been applied \n",
    "toronto_data_size.shape[0]"
   ]
  },
  {
   "cell_type": "code",
   "execution_count": null,
   "id": "f14bb2ca",
   "metadata": {},
   "outputs": [],
   "source": [
    "# list all columns in our new dataframe by exporting them to a list called \"variables\"\n",
    "variables = toronto_data.columns.tolist()\n",
    "print(variables)"
   ]
  },
  {
   "cell_type": "code",
   "execution_count": null,
   "id": "9f25fcc8",
   "metadata": {},
   "outputs": [],
   "source": [
    "# show a sampling of values from a particular column to confirm it\n",
    "# contains what we think it does\n",
    "\n",
    "print(toronto_data[\"LOCEMP\"].head())  "
   ]
  },
  {
   "cell_type": "code",
   "execution_count": null,
   "id": "e001d5d4",
   "metadata": {},
   "outputs": [],
   "source": [
    "# grab only specific columns to keep\n",
    "\n",
    "# list of columns to keep\n",
    "# CHANGE AS NEEDED\n",
    "selected_columns = [\"CONAME\", \"STADDR\", \"SUITE\", \"STCITY\", \"LOCEMP\" ]\n",
    "\n",
    "# create a new DataFrame with only selected columns\n",
    "final_toronto = toronto_data[selected_columns]\n",
    "\n",
    "# display the new DataFrame\n",
    "print(final_toronto.head(10))"
   ]
  },
  {
   "cell_type": "code",
   "execution_count": null,
   "id": "e15b43f0",
   "metadata": {},
   "outputs": [],
   "source": [
    "# print to csv\n",
    "# your csv will now be available from your Jupyter Notebooks home page\n",
    "# select the checkbox beside the filename, and \"download\" from the top menu bar\n",
    "final_toronto.to_csv('torontodata.csv')"
   ]
  }
 ],
 "metadata": {
  "kernelspec": {
   "display_name": "Python 3 (ipykernel)",
   "language": "python",
   "name": "python3"
  },
  "language_info": {
   "codemirror_mode": {
    "name": "ipython",
    "version": 3
   },
   "file_extension": ".py",
   "mimetype": "text/x-python",
   "name": "python",
   "nbconvert_exporter": "python",
   "pygments_lexer": "ipython3",
   "version": "3.10.9"
  }
 },
 "nbformat": 4,
 "nbformat_minor": 5
}
